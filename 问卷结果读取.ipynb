{
 "cells": [
  {
   "cell_type": "code",
   "execution_count": 205,
   "metadata": {},
   "outputs": [],
   "source": [
    "import pandas as pd\n",
    "import shutil\n",
    "from pathlib import Path\n",
    "from tqdm import tqdm\n",
    "import docx\n",
    "from docx import Document\n",
    "from docx.shared import Pt\n",
    "from docx.oxml.ns import qn\n",
    "from docx.enum.text import WD_PARAGRAPH_ALIGNMENT"
   ]
  },
  {
   "cell_type": "code",
   "execution_count": 206,
   "metadata": {},
   "outputs": [],
   "source": [
    "file_path = Path(\"填写好的问卷/External Team Members-T3合并.docx\")\n",
    "doc = Document(file_path)\n",
    "from docx.oxml.shared import OxmlElement\n",
    "for table in doc.tables:\n",
    "    if not table._element.xpath('.//w:tblGrid'):\n",
    "        tblGrid = OxmlElement('w:tblGrid')\n",
    "        table._element.insert(0, tblGrid)"
   ]
  },
  {
   "cell_type": "code",
   "execution_count": 207,
   "metadata": {},
   "outputs": [],
   "source": [
    "# 获取表格\n",
    "table = doc.tables[0]"
   ]
  },
  {
   "cell_type": "code",
   "execution_count": 208,
   "metadata": {},
   "outputs": [],
   "source": [
    "# 将表格转换为DataFrame\n",
    "data = []\n",
    "for i, row in enumerate(table.rows):\n",
    "    text = [cell.text for cell in row.cells]\n",
    "    data.append(text)"
   ]
  },
  {
   "cell_type": "code",
   "execution_count": 209,
   "metadata": {},
   "outputs": [],
   "source": [
    "from typing import Literal, Optional\n",
    "\n",
    "\n",
    "class base_option:\n",
    "    def __init__(\n",
    "        self,\n",
    "        option_num: Literal[1, 2, 3, 4, 5] = 1,\n",
    "        text: Optional[str] = None,\n",
    "        is_bold: bool = None,\n",
    "        is_italic: bool = None,\n",
    "        FontColor: bool = None,\n",
    "        HighlightColor: bool = None,\n",
    "    ):\n",
    "        self.option_num = option_num\n",
    "        if text == None:\n",
    "            text = str(option_num)\n",
    "        self.text = text\n",
    "        self.is_bold = is_bold\n",
    "        self.is_italic = is_italic\n",
    "        self.FontColor = FontColor\n",
    "        self.HighlightColor = HighlightColor\n",
    "\n",
    "    def __repr__(self) -> str:\n",
    "        return f\"text : {self.text} \\nis_bold: {self.is_bold} \\nis_italic: {self.is_italic} \\nFontColor:{self.FontColor} \\nHighlightColor:{self.HighlightColor}\"\n",
    "\n",
    "    def compare(self, option_num: Optional[int] = None,debug = False) -> bool:\n",
    "        if option_num == None:\n",
    "            option_num = self.option_num\n",
    "        _base_option = base_option(option_num)\n",
    "        if debug:\n",
    "            print(f\"self: {self}\")\n",
    "            print(f\"_base_option: {_base_option}\")\n",
    "        for key in [\n",
    "            \"option_num\",\n",
    "            \"text\",\n",
    "            \"is_bold\",\n",
    "            \"is_italic\",\n",
    "            \"FontColor\",\n",
    "            \"HighlightColor\",\n",
    "        ]:\n",
    "            if getattr(self, key) != getattr(_base_option, key):\n",
    "                return False\n",
    "        return True\n",
    "\n",
    "\n",
    "def get_option(run: docx.text.run.Run, option_num: Literal[1, 2, 3, 4, 5]):\n",
    "    # 获取文本\n",
    "    text = run.text\n",
    "    # 获取文本的格式\n",
    "    is_bold = run.bold\n",
    "    is_italic = run.italic\n",
    "    FontColor = run.font.color.rgb if run.font.color else None\n",
    "    HighlightColor = run.font.highlight_color if run.font.highlight_color else None\n",
    "    return base_option(option_num, text, is_bold, is_italic, FontColor, HighlightColor)"
   ]
  },
  {
   "cell_type": "code",
   "execution_count": 218,
   "metadata": {},
   "outputs": [
    {
     "name": "stdout",
     "output_type": "stream",
     "text": [
      "问题为: 如果我在这个团队犯了错误，这通常会被记在我的头上\n",
      "所选择的选项为: 1\n",
      "问题为: 这个团队的成员能够提出问题和棘手的议题\n",
      "所选择的选项为: 2\n",
      "问题为: 这个团队上的人不会因为别人的不同而排斥他们\n",
      "所选择的选项为: 1\n",
      "问题为: 在这个团队中冒险是安全的\n",
      "所选择的选项为: 3\n"
     ]
    }
   ],
   "source": [
    "# 获取文本格式\n",
    "for i in range(2, 6):\n",
    "    row = table.rows[i]\n",
    "    print(f\"问题为: {row.cells[0].text}\")\n",
    "    for idx, cell in enumerate(row.cells[-5:]):\n",
    "        if not get_option(cell.paragraphs[0].runs[0], idx + 1).compare():\n",
    "            print(f\"所选择的选项为: {idx+1}\")"
   ]
  }
 ],
 "metadata": {
  "kernelspec": {
   "display_name": "base",
   "language": "python",
   "name": "python3"
  },
  "language_info": {
   "codemirror_mode": {
    "name": "ipython",
    "version": 3
   },
   "file_extension": ".py",
   "mimetype": "text/x-python",
   "name": "python",
   "nbconvert_exporter": "python",
   "pygments_lexer": "ipython3",
   "version": "3.9.12"
  }
 },
 "nbformat": 4,
 "nbformat_minor": 2
}
